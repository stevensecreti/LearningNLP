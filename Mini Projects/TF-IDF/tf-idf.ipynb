{
 "cells": [
  {
   "cell_type": "markdown",
   "metadata": {},
   "source": [
    "### Term Frequency-Inverse Document Frequency\n",
    "\n",
    "TF-IDF is an approach to isolate descriptive words from text.\n",
    "\n",
    "Suppose we have six documents that contain text on various topics. Like a frequency distribution, we can find the most common words in each documents. Then we can find the most common words throughout all documents. Then if we remove the most common words across all documents, we are left with descriptive words related to each specific document. Documents with the same leftover descriptive words are most likely about the same topic."
   ]
  },
  {
   "cell_type": "code",
   "execution_count": 16,
   "metadata": {},
   "outputs": [
    {
     "name": "stdout",
     "output_type": "stream",
     "text": [
      "10\n",
      "World War II (WWII or WW2), also known as the Second World War, was a global war that lasted from 1939 to 1945, though related conflicts began earlier. It involved the vast majority of the world's nationsâ€”including all of the great powersâ€”eventually forming two opposing military alliances: the Allies and the Axis. It was the most widespread war in history, and directly involved more than 100 million people from over 30 countries. In a state of \"total war\", the major participants threw their entire economic, industrial, and scientific capabilities behind the war effort, erasing the distinction between civilian and military resources. Marked by mass deaths of civilians, including the Holocaust (in which approximately 11 million people were killed) and the strategic bombing of industrial and population centres (in which approximately one million were killed, and which included the atomic bombings of Hiroshima and Nagasaki), it resulted in an estimated 50 million to 85 million fatalities. These made World War II the deadliest conflict in human history.\n",
      "\n",
      "The Empire of Japan aimed to dominate Asia and the Pacific and was already at war with the Republic of China in 1937, but the world war is generally said to have begun on 1 September 1939 with the invasion of Poland by Germany and subsequent declarations of war on Germany by France and the United Kingdom. From late 1939 to early 1941, in a series of campaigns and treaties, Germany conquered or controlled much of continental Europe, and formed the Axis alliance with Italy and Japan. Based on the Molotovâ€“Ribbentrop Pact of August 1939, Germany and the Soviet Union partitioned and annexed territories of their European neighbours, Poland, Finland, Romania and the Baltic states. For a year starting in late June 1940, the United Kingdom and the British Commonwealth were the only Allied forces continuing the fight against the European Axis powers, with campaigns in North Africa and the Horn of Africa, the aerial Battle of Britain and the Blitz bombing campaign, as well as the long-running Battle of the Atlantic. In June 1941, the European Axis powers launched an invasion of the Soviet Union, opening the largest land theatre of war in history, which trapped the major part of the Axis' military forces into a war of attrition. In December 1941, Japan attacked the United States and European territories in the Pacific Ocean, and quickly conquered much of the Western Pacific.\n",
      "\n",
      "The Axis advance halted in 1942 when Japan lost the critical Battle of Midway, near Hawaii, and Germany was defeated in North Africa and then, decisively, at Stalingrad in the Soviet Union. In 1943, with a series of German defeats on the Eastern Front, the Allied invasion of Italy which brought about Italian surrender, and Allied victories in the Pacific, the Axis lost the initiative and undertook strategic retreat on all fronts. In 1944, the Western Allies invaded German-occupied France, while the Soviet Union regained all of its territorial losses and invaded Germany and its allies. During 1944 and 1945 the Japanese suffered major reverses in mainland Asia in South Central China and Burma, while the Allies crippled the Japanese Navy and captured key Western Pacific islands.\n",
      "\n",
      "The war in Europe ended with an invasion of Germany by the Western Allies and the Soviet Union culminating in the capture of Berlin by Soviet and Polish troops and the subsequent German unconditional surrender on 8 May 1945. Following the Potsdam Declaration by the Allies on 26 July 1945 and the refusal of Japan to surrender under its terms, the United States dropped atomic bombs on the Japanese cities of Hiroshima and Nagasaki on 6 August and 9 August respectively. With an invasion of the Japanese archipelago imminent, the possibility of additional atomic bombings, and the Soviet Union's declaration of war on Japan and invasion of Manchuria, Japan surrendered on 15 August 1945. Thus ended the war in Asia, cementing the total victory of the Allies.\n",
      "\n",
      "World War II altered the political alignment and social structure of the world. The United Nations (UN) was established to foster international co-operation and prevent future conflicts. The victorious great powersâ€”the United States, the Soviet Union, China, the United Kingdom, and Franceâ€”became the permanent members of the United Nations Security Council. The Soviet Union and the United States emerged as rival superpowers, setting the stage for the Cold War, which lasted for the next 46 years. Meanwhile, the influence of European great powers waned, while the decolonisation of Asia and Africa began. Most countries whose industries had been damaged moved towards economic recovery. Political integration, especially in Europe, emerged as an effort to end pre-war enmities and to create a common identity.\n"
     ]
    }
   ],
   "source": [
    "import nltk\n",
    "import numpy as np\n",
    "dataset = {}\n",
    "for i in range(1,11):\n",
    "    file_name = \"tfidf_\" + str(i) + \".txt\"\n",
    "    txt = open(file_name, \"r\").read()\n",
    "    dataset[file_name] = txt\n",
    "print(len(dataset))\n",
    "print(dataset[\"tfidf_1.txt\"])"
   ]
  },
  {
   "cell_type": "code",
   "execution_count": 15,
   "metadata": {},
   "outputs": [],
   "source": [
    "def tf(dataset, file_name):\n",
    "    txt = dataset[file_name]\n",
    "    tokens = nltk.word_tokenize(txt)\n",
    "    freq = nltk.FreqDist(tokens)\n",
    "    return freq\n",
    "\n",
    "term_freqs = {}\n",
    "def get_tfs(dataset):\n",
    "    for file_name in list(dataset.keys()):\n",
    "        term_freqs[file_name] = tf(dataset, file_name)\n",
    "\n",
    "get_tfs(dataset)"
   ]
  },
  {
   "cell_type": "code",
   "execution_count": 25,
   "metadata": {},
   "outputs": [],
   "source": [
    "import math\n",
    "def idf(dataset, term):\n",
    "    count = [term in dataset[file_name] for file_name in dataset]\n",
    "    inv_df = np.log(len(count)/sum(count))\n",
    "    return inv_df"
   ]
  },
  {
   "cell_type": "code",
   "execution_count": 26,
   "metadata": {},
   "outputs": [
    {
     "name": "stdout",
     "output_type": "stream",
     "text": [
      "0.5108256237659907\n"
     ]
    }
   ],
   "source": [
    "print(idf(dataset, \"world\"))"
   ]
  },
  {
   "cell_type": "code",
   "execution_count": 31,
   "metadata": {},
   "outputs": [],
   "source": [
    "def tfidf(dataset, file_name, n):\n",
    "    term_scores = {}\n",
    "    file_fd = tf(dataset, file_name)\n",
    "    for term in file_fd:\n",
    "        if term.isalpha():\n",
    "            idf_val = idf(dataset, term)\n",
    "            tf_val = tf(dataset, file_name)[term]\n",
    "            tfidf_val = tf_val * idf_val\n",
    "            term_scores[term] = round(tfidf_val, 2)\n",
    "    return sorted(term_scores.items(), key=lambda x: x[1], reverse=True)[:n]"
   ]
  },
  {
   "cell_type": "code",
   "execution_count": 32,
   "metadata": {},
   "outputs": [
    {
     "name": "stdout",
     "output_type": "stream",
     "text": [
      "tfidf_1:  [('Soviet', 20.72), ('Union', 18.42), ('Axis', 16.12), ('Pacific', 11.51), ('Japan', 11.27), ('Germany', 11.27), ('Allies', 9.66), ('invasion', 9.66), ('World', 9.21), ('Asia', 9.21)]\n"
     ]
    }
   ],
   "source": [
    "tfidf_1 = tfidf(dataset, \"tfidf_1.txt\", 10)\n",
    "print(\"tfidf_1: \", tfidf_1)"
   ]
  },
  {
   "cell_type": "code",
   "execution_count": 34,
   "metadata": {},
   "outputs": [
    {
     "name": "stdout",
     "output_type": "stream",
     "text": [
      "tfidf_1.txt:  [('Soviet', 20.72), ('Union', 18.42), ('Axis', 16.12), ('Pacific', 11.51), ('Japan', 11.27), ('Germany', 11.27), ('Allies', 9.66), ('invasion', 9.66), ('World', 9.21), ('Asia', 9.21)]\n",
      "tfidf_2.txt:  [('Armstrong', 11.51), ('lunar', 9.21), ('Aldrin', 6.91), ('Earth', 4.83), ('Apollo', 4.61), ('Moon', 4.61), ('UTC', 4.61), ('surface', 4.61), ('spacecraft', 4.61), ('step', 3.22)]\n",
      "tfidf_3.txt:  [('Napoleon', 32.19), ('French', 16.86), ('Coalition', 11.51), ('Prussia', 6.91), ('military', 6.02), ('Revolution', 6.02), ('Battle', 6.02), ('against', 5.5), ('France', 4.85), ('Europe', 4.85)]\n",
      "tfidf_4.txt:  [('Washington', 25.33), ('President', 6.44), ('Continental', 4.82), ('presided', 4.61), ('militia', 4.61), ('armies', 4.61), ('generals', 4.61), ('preservation', 4.61), ('opposition', 4.61), ('federal', 4.61)]\n",
      "tfidf_5.txt:  [('Newton', 23.03), ('scientists', 6.91), ('motion', 4.83), ('mathematician', 4.61), ('Principia', 4.61), ('mechanics', 4.61), ('calculus', 4.61), ('laws', 4.61), ('mathematical', 4.61), ('Newtonian', 4.61)]\n",
      "tfidf_6.txt:  [('Revolution', 21.67), ('French', 15.65), ('privileges', 6.91), ('central', 6.91), ('Napoleon', 6.44), ('global', 4.83), ('leading', 4.83), ('popular', 4.83), ('Directory', 4.83), ('political', 4.82)]\n",
      "tfidf_7.txt:  [('Leonardo', 18.42), ('Vinci', 9.21), ('painting', 6.91), ('Piero', 4.61), ('architecture', 4.61), ('anatomy', 4.61), ('inventions', 4.61), ('Renaissance', 4.61), ('personality', 4.61), ('mysterious', 4.61)]\n",
      "tfidf_8.txt:  [('Titanic', 18.42), ('passengers', 11.51), ('maritime', 9.21), ('safety', 9.21), ('lifeboats', 9.21), ('aboard', 9.21), ('RMS', 6.91), ('sinking', 6.91), ('crew', 6.91), ('watertight', 6.91)]\n",
      "tfidf_9.txt:  [('Rockefeller', 23.03), ('business', 6.91), ('Standard', 6.91), ('Oil', 6.91), ('University', 4.83), ('Company', 4.61), ('industry', 4.61), ('philanthropy', 4.61), ('founded', 4.61), ('richest', 4.61)]\n",
      "tfidf_10.txt:  [('Tesla', 13.82), ('electrical', 9.21), ('wireless', 6.44), ('mechanical', 4.61), ('alternating', 4.61), ('AC', 4.61), ('electricity', 4.61), ('range', 4.61), ('devices', 4.61), ('experiments', 4.61)]\n"
     ]
    }
   ],
   "source": [
    "for file_name in dataset:\n",
    "    print(file_name + \": \", tfidf(dataset, file_name, 10))"
   ]
  }
 ],
 "metadata": {
  "kernelspec": {
   "display_name": "Python 3.10.4 64-bit",
   "language": "python",
   "name": "python3"
  },
  "language_info": {
   "codemirror_mode": {
    "name": "ipython",
    "version": 3
   },
   "file_extension": ".py",
   "mimetype": "text/x-python",
   "name": "python",
   "nbconvert_exporter": "python",
   "pygments_lexer": "ipython3",
   "version": "3.10.4"
  },
  "orig_nbformat": 4,
  "vscode": {
   "interpreter": {
    "hash": "369f2c481f4da34e4445cda3fffd2e751bd1c4d706f27375911949ba6bb62e1c"
   }
  }
 },
 "nbformat": 4,
 "nbformat_minor": 2
}
