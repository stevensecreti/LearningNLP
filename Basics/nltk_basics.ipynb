{
 "cells": [
  {
   "cell_type": "markdown",
   "metadata": {},
   "source": [
    "### Import and FileIDs"
   ]
  },
  {
   "cell_type": "code",
   "execution_count": 1,
   "metadata": {},
   "outputs": [],
   "source": [
    "import nltk"
   ]
  },
  {
   "cell_type": "code",
   "execution_count": 2,
   "metadata": {},
   "outputs": [
    {
     "name": "stdout",
     "output_type": "stream",
     "text": [
      "['austen-emma.txt', 'austen-persuasion.txt', 'austen-sense.txt', 'bible-kjv.txt', 'blake-poems.txt', 'bryant-stories.txt', 'burgess-busterbrown.txt', 'carroll-alice.txt', 'chesterton-ball.txt', 'chesterton-brown.txt', 'chesterton-thursday.txt', 'edgeworth-parents.txt', 'melville-moby_dick.txt', 'milton-paradise.txt', 'shakespeare-caesar.txt', 'shakespeare-hamlet.txt', 'shakespeare-macbeth.txt', 'whitman-leaves.txt']\n"
     ]
    }
   ],
   "source": [
    "gutenberg_file_ids = nltk.corpus.gutenberg.fileids() #Calls back all txt files loaded earlier that are associated with project gutenberg.\n",
    "print(gutenberg_file_ids)"
   ]
  },
  {
   "cell_type": "markdown",
   "metadata": {},
   "source": [
    "### WORD OPERATIONS"
   ]
  },
  {
   "cell_type": "code",
   "execution_count": 3,
   "metadata": {},
   "outputs": [
    {
     "name": "stdout",
     "output_type": "stream",
     "text": [
      "['[', 'Moby', 'Dick', 'by', 'Herman', 'Melville', '1851', ']']\n"
     ]
    }
   ],
   "source": [
    "md = nltk.corpus.gutenberg.words(\"melville-moby_dick.txt\")\n",
    "print(md[:8])"
   ]
  },
  {
   "cell_type": "code",
   "execution_count": 4,
   "metadata": {},
   "outputs": [
    {
     "name": "stdout",
     "output_type": "stream",
     "text": [
      "Whale count: 906\n",
      "Boat count: 330\n",
      "laptop count: 0\n"
     ]
    }
   ],
   "source": [
    "whale_count = md.count(\"whale\")\n",
    "boat_count = md.count(\"boat\")\n",
    "laptop_count = md.count(\"laptop\")\n",
    "print(\"Whale count:\", whale_count)\n",
    "print(\"Boat count:\", boat_count)\n",
    "print(\"laptop count:\", laptop_count)"
   ]
  },
  {
   "cell_type": "code",
   "execution_count": 5,
   "metadata": {},
   "outputs": [
    {
     "name": "stdout",
     "output_type": "stream",
     "text": [
      "Number of words: 260819\n",
      "Unique word count: 19317\n",
      "Average times word reused: 13.5\n"
     ]
    }
   ],
   "source": [
    "num_words = len(md)\n",
    "print(\"Number of words:\", num_words)\n",
    "\n",
    "md_set = set(md)\n",
    "unique_word_count = len(md_set)\n",
    "print(\"Unique word count:\", unique_word_count)\n",
    "\n",
    "avg_times_word_reused = (num_words / unique_word_count)\n",
    "#Round to two decimal places\n",
    "print(\"Average times word reused:\", round(avg_times_word_reused, 2))\n"
   ]
  },
  {
   "cell_type": "markdown",
   "metadata": {},
   "source": [
    "### SENTENCE OPERATIONS"
   ]
  },
  {
   "cell_type": "code",
   "execution_count": 6,
   "metadata": {},
   "outputs": [],
   "source": [
    "md_sents = nltk.corpus.gutenberg.sents(\"melville-moby_dick.txt\")"
   ]
  },
  {
   "cell_type": "code",
   "execution_count": 7,
   "metadata": {},
   "outputs": [
    {
     "name": "stdout",
     "output_type": "stream",
     "text": [
      "Average words per sentence: 25.93\n"
     ]
    }
   ],
   "source": [
    "avg_words_per_sentence = len(md)/len(md_sents)\n",
    "print(\"Average words per sentence:\", round(avg_words_per_sentence, 2))"
   ]
  },
  {
   "cell_type": "markdown",
   "metadata": {},
   "source": [
    "### Example:"
   ]
  },
  {
   "cell_type": "markdown",
   "metadata": {},
   "source": [
    "Task: Load in the collection of inaugural speeches from nltk and find the average number of words per sentence in each speech "
   ]
  },
  {
   "cell_type": "code",
   "execution_count": 8,
   "metadata": {},
   "outputs": [],
   "source": [
    "from nltk.corpus import inaugural\n",
    "speech_names = inaugural.fileids()"
   ]
  },
  {
   "cell_type": "code",
   "execution_count": 9,
   "metadata": {},
   "outputs": [],
   "source": [
    "speech_avg_words_per_sentence = {}\n",
    "for speech_name in speech_names:\n",
    "    words = inaugural.words(speech_name)\n",
    "    sents = inaugural.sents(speech_name)\n",
    "    num_words = len(words)\n",
    "    num_sents = len(sents)\n",
    "    avg_words_per_sentence = num_words/num_sents\n",
    "    speech_avg_words_per_sentence[speech_name] = avg_words_per_sentence"
   ]
  },
  {
   "cell_type": "code",
   "execution_count": 10,
   "metadata": {},
   "outputs": [
    {
     "name": "stdout",
     "output_type": "stream",
     "text": [
      "Speech | Avg words per sentence\n",
      "1789-Washington.txt | 64.08\n",
      "1793-Washington.txt | 36.75\n",
      "1797-Adams.txt | 69.86\n",
      "1801-Jefferson.txt | 46.07\n",
      "1805-Jefferson.txt | 52.98\n",
      "1809-Madison.txt | 60.24\n",
      "1813-Madison.txt | 39.52\n",
      "1817-Monroe.txt | 30.27\n",
      "1821-Monroe.txt | 38.05\n",
      "1825-Adams.txt | 42.57\n",
      "1829-Jackson.txt | 48.32\n",
      "1833-Jackson.txt | 42.23\n",
      "1837-VanBuren.txt | 43.91\n",
      "1841-Harrison.txt | 43.64\n",
      "1845-Polk.txt | 33.96\n",
      "1849-Taylor.txt | 53.73\n",
      "1853-Pierce.txt | 35.16\n",
      "1857-Buchanan.txt | 34.81\n",
      "1861-Lincoln.txt | 29.02\n",
      "1865-Lincoln.txt | 29.07\n",
      "1869-Grant.txt | 30.22\n",
      "1873-Grant.txt | 33.59\n",
      "1877-Hayes.txt | 46.17\n",
      "1881-Garfield.txt | 28.92\n",
      "1885-Cleveland.txt | 41.55\n",
      "1889-Harrison.txt | 30.25\n",
      "1893-Cleveland.txt | 37.12\n",
      "1897-McKinley.txt | 33.62\n",
      "1901-McKinley.txt | 24.5\n",
      "1905-Roosevelt.txt | 33.06\n",
      "1909-Taft.txt | 36.77\n",
      "1913-Wilson.txt | 28.01\n",
      "1917-Wilson.txt | 27.6\n",
      "1921-Harding.txt | 25.21\n",
      "1925-Coolidge.txt | 22.55\n",
      "1929-Hoover.txt | 24.62\n",
      "1933-Roosevelt.txt | 24.27\n",
      "1937-Roosevelt.txt | 21.03\n",
      "1941-Roosevelt.txt | 22.59\n",
      "1945-Roosevelt.txt | 24.5\n",
      "1949-Truman.txt | 21.79\n",
      "1953-Eisenhower.txt | 22.56\n",
      "1957-Eisenhower.txt | 20.84\n",
      "1961-Kennedy.txt | 29.73\n",
      "1965-Johnson.txt | 18.24\n",
      "1969-Nixon.txt | 22.88\n",
      "1973-Nixon.txt | 29.39\n",
      "1977-Carter.txt | 26.04\n",
      "1981-Reagan.txt | 22.06\n",
      "1985-Reagan.txt | 23.38\n",
      "1989-Bush.txt | 18.71\n",
      "1993-Clinton.txt | 22.9\n",
      "1997-Clinton.txt | 21.98\n",
      "2001-Bush.txt | 18.81\n",
      "2005-Bush.txt | 25.01\n",
      "2009-Obama.txt | 24.34\n",
      "2013-Obama.txt | 25.75\n",
      "2017-Trump.txt | 18.81\n",
      "2021-Biden.txt | 18.59\n"
     ]
    }
   ],
   "source": [
    "print(\"Speech | Avg words per sentence\")\n",
    "for speech, avg in speech_avg_words_per_sentence.items():\n",
    "    print(str(speech) + \" | \" + str(round(avg, 2)))"
   ]
  },
  {
   "cell_type": "code",
   "execution_count": 11,
   "metadata": {},
   "outputs": [
    {
     "name": "stdout",
     "output_type": "stream",
     "text": [
      "Max avg words per sentence: 69.86486486486487\n",
      "Max speech: 1797-Adams.txt\n"
     ]
    }
   ],
   "source": [
    "#Find the speech with the max avg words per sentence\n",
    "max_avg_words_per_sentence = max(speech_avg_words_per_sentence.values())\n",
    "max_speech = max(speech_avg_words_per_sentence, key=speech_avg_words_per_sentence.get)\n",
    "print(\"Max avg words per sentence:\", max_avg_words_per_sentence)\n",
    "print(\"Max speech:\", max_speech)"
   ]
  },
  {
   "cell_type": "code",
   "execution_count": 12,
   "metadata": {},
   "outputs": [
    {
     "name": "stdout",
     "output_type": "stream",
     "text": [
      "   Year  Avg words per sentence\n",
      "0  1789               64.083333\n",
      "1  1793               36.750000\n",
      "2  1797               69.864865\n",
      "3  1801               46.071429\n",
      "4  1805               52.977778\n",
      "5  1809               60.238095\n",
      "6  1813               39.515152\n",
      "7  1817               30.270492\n",
      "8  1821               38.054264\n",
      "9  1825               42.567568\n"
     ]
    }
   ],
   "source": [
    "#Plot for data\n",
    "import pandas as pd\n",
    "\n",
    "speeches = speech_avg_words_per_sentence.keys()\n",
    "years = [int(speech[:4]) for speech in speeches]\n",
    "avg_words_per_sentence = list(speech_avg_words_per_sentence.values())\n",
    "years_avg = dict(zip(years, avg_words_per_sentence))\n",
    "\n",
    "\n",
    "data = pd.DataFrame(years_avg.items(), columns=[\"Year\", \"Avg words per sentence\"])\n",
    "print(data.head(10))"
   ]
  },
  {
   "cell_type": "code",
   "execution_count": 13,
   "metadata": {},
   "outputs": [
    {
     "data": {
      "text/plain": [
       "<AxesSubplot:xlabel='Year'>"
      ]
     },
     "execution_count": 13,
     "metadata": {},
     "output_type": "execute_result"
    },
    {
     "data": {
      "image/png": "[encoded data removed]",
      "text/plain": [
       "<Figure size 1080x360 with 1 Axes>"
      ]
     },
     "metadata": {
      "needs_background": "light"
     },
     "output_type": "display_data"
    }
   ],
   "source": [
    "import matplotlib as mpl\n",
    "%matplotlib inline \n",
    "data.plot(\"Year\", figsize=(15, 5))"
   ]
  },
  {
   "cell_type": "markdown",
   "metadata": {},
   "source": [
    "### Frequency Distributions"
   ]
  },
  {
   "cell_type": "code",
   "execution_count": 14,
   "metadata": {},
   "outputs": [],
   "source": [
    "alice = nltk.corpus.gutenberg.words(\"carroll-alice.txt\")\n",
    "alice_fd = nltk.FreqDist(alice) #Frequency distribution"
   ]
  },
  {
   "cell_type": "code",
   "execution_count": 15,
   "metadata": {},
   "outputs": [
    {
     "name": "stdout",
     "output_type": "stream",
     "text": [
      "# of times 'Rabbit' is used: 45\n",
      "Most common words: [(',', 1993), (\"'\", 1731), ('the', 1527), ('and', 802), ('.', 764), ('to', 725), ('a', 615), ('I', 543), ('it', 527), ('she', 509), ('of', 500), ('said', 456), (\",'\", 397), ('Alice', 396), ('in', 357)]\n"
     ]
    }
   ],
   "source": [
    "rabbit_used = alice_fd[\"Rabbit\"]\n",
    "print(\"# of times 'Rabbit' is used:\", rabbit_used)\n",
    "most_common_words = alice_fd.most_common(15)\n",
    "print(\"Most common words:\", most_common_words)"
   ]
  },
  {
   "cell_type": "markdown",
   "metadata": {},
   "source": [
    "Except for Alice, this list is made up of non-descriptive words."
   ]
  },
  {
   "cell_type": "code",
   "execution_count": 16,
   "metadata": {},
   "outputs": [
    {
     "name": "stdout",
     "output_type": "stream",
     "text": [
      "Words only used once: ['Lewis', 'Carroll', '1865', ']', 'Hole', 'conversations', 'daisy', 'chain', 'daisies', 'pink', 'wondered', 'actually', 'TOOK', 'WATCH', 'OUT', 'ITS', 'WAISTCOAT', 'POCKET', 'flashed', 'waistcoat']\n"
     ]
    }
   ],
   "source": [
    "#Word used only once in a text is called a \"hapax legomena\"\n",
    "words_only_used_once = alice_fd.hapaxes()\n",
    "print(\"Words only used once:\", words_only_used_once[:20])"
   ]
  },
  {
   "cell_type": "markdown",
   "metadata": {},
   "source": [
    "These words are more descriptive, but they do not provide enough value on their own as they are so infrequently used."
   ]
  },
  {
   "cell_type": "markdown",
   "metadata": {},
   "source": [
    "#### Conditional Frequency Distribution"
   ]
  },
  {
   "cell_type": "code",
   "execution_count": 17,
   "metadata": {},
   "outputs": [
    {
     "name": "stdout",
     "output_type": "stream",
     "text": [
      "Name distribution: [(('Group B', 'Amy'), 2), (('Group A', 'Paul'), 1), (('Group A', 'Mike'), 1), (('Group A', 'Katy'), 1), (('Group B', 'Joe'), 1)]\n"
     ]
    }
   ],
   "source": [
    "names = [(\"Group A\", \"Paul\"), (\"Group A\", \"Mike\"), (\"Group A\", \"Katy\"), (\"Group B\", \"Amy\"), (\"Group B\", \"Joe\"), (\"Group B\", \"Amy\")]\n",
    "name_dist = nltk.FreqDist(names)\n",
    "print(\"Name distribution:\", name_dist.most_common(10))"
   ]
  },
  {
   "cell_type": "code",
   "execution_count": 18,
   "metadata": {},
   "outputs": [
    {
     "name": "stdout",
     "output_type": "stream",
     "text": [
      "dict_items([('Group A', FreqDist({'Paul': 1, 'Mike': 1, 'Katy': 1})), ('Group B', FreqDist({'Amy': 2, 'Joe': 1}))])\n"
     ]
    }
   ],
   "source": [
    "cond_name_dist = nltk.ConditionalFreqDist(names)\n",
    "print(cond_name_dist.items())"
   ]
  },
  {
   "cell_type": "markdown",
   "metadata": {},
   "source": [
    "#### Informative Words\n",
    "\n",
    "Find words that are important and descriptive"
   ]
  },
  {
   "cell_type": "code",
   "execution_count": 19,
   "metadata": {},
   "outputs": [],
   "source": [
    "alice_fd = nltk.FreqDist(alice)\n",
    "alice_fd_100 = alice_fd.most_common(100) #100 most common words for alice in wonderland"
   ]
  },
  {
   "cell_type": "markdown",
   "metadata": {},
   "source": [
    "Now, we will find the 100 most common words from another book. We will then subtract the similar words from the most common 100 words in Alice in Wonderland and then words we are left with should be unique or at least more so relevant to Alice in Wonderland"
   ]
  },
  {
   "cell_type": "code",
   "execution_count": 20,
   "metadata": {},
   "outputs": [],
   "source": [
    "moby = nltk.corpus.gutenberg.words(\"melville-moby_dick.txt\")\n",
    "moby_fd = nltk.FreqDist(moby)\n",
    "moby_fd_100 = moby_fd.most_common(100) #100 most common words for moby_dick"
   ]
  },
  {
   "cell_type": "code",
   "execution_count": 21,
   "metadata": {},
   "outputs": [
    {
     "name": "stdout",
     "output_type": "stream",
     "text": [
      "Alice 100 most common words: [',', \"'\", 'the', 'and', '.', 'to', 'a', 'I', 'it', 'she']\n",
      "Moby 100 most common words: [',', 'the', '.', 'of', 'and', 'a', 'to', ';', 'in', 'that']\n"
     ]
    }
   ],
   "source": [
    "#Compare two collections of words\n",
    "alice_100 = [word for (word, _) in alice_fd_100]\n",
    "moby_100 = [word for (word, _) in moby_fd_100]\n",
    "print(\"Alice 100 most common words:\", alice_100[:10])\n",
    "print(\"Moby 100 most common words:\", moby_100[:10])"
   ]
  },
  {
   "cell_type": "code",
   "execution_count": 22,
   "metadata": {},
   "outputs": [
    {
     "name": "stdout",
     "output_type": "stream",
     "text": [
      "Alice common words with Moby duplicate words removed:  {'could', ':', \"?'\", 'Mock', '*', 'way', 'King', \".'\", 'know', 'Turtle', 'Queen', \"!'\", 'see', 'say', 'll', 'thought', 'your', 'did', 'said', 'Hatter', 'Alice', 'm', 'much', 'little', 'off', 'she', 'went', 'Gryphon', 'began', \",'\", 'again', 't', 'can', 'herself', 'do', 'quite'}\n"
     ]
    }
   ],
   "source": [
    "alice_with_moby_removed = set(alice_100) - set(moby_100)\n",
    "print(\"Alice common words with Moby duplicate words removed: \", alice_with_moby_removed)"
   ]
  },
  {
   "cell_type": "code",
   "execution_count": 23,
   "metadata": {},
   "outputs": [
    {
     "name": "stdout",
     "output_type": "stream",
     "text": [
      "Moby common words with Alice duplicate words removed:  {'ye', 'Ahab', 'though', 'than', 'whale', 'such', 'long', 'been', 'will', 'ship', 'only', 'more', 'some', 'sea', 'old', '?', 'from', '!\"', 'who', 'boat', 'other', 'any', 'now', 'we', 'him', 'which', '.\"', 'head', 'man', '\"', 'these', 'But', 'are', 'their', 'upon', 'over'}\n"
     ]
    }
   ],
   "source": [
    "moby_with_alice_removed = set(moby_100) - set(alice_100)\n",
    "print(\"Moby common words with Alice duplicate words removed: \", moby_with_alice_removed)"
   ]
  },
  {
   "cell_type": "markdown",
   "metadata": {},
   "source": [
    "### Bigrams\n",
    "(or 2grams or Ngrams) - ALlow us to look at combinations of words that appear next to one another"
   ]
  },
  {
   "cell_type": "code",
   "execution_count": 24,
   "metadata": {},
   "outputs": [
    {
     "name": "stdout",
     "output_type": "stream",
     "text": [
      "Tokens: ['I', 'think', 'it', 'might', 'rain', 'today', '.']\n"
     ]
    }
   ],
   "source": [
    "bigram_phrase = \"I think it might rain today.\"\n",
    "tokens = nltk.word_tokenize(bigram_phrase)\n",
    "print(\"Tokens:\", tokens)"
   ]
  },
  {
   "cell_type": "code",
   "execution_count": 25,
   "metadata": {},
   "outputs": [],
   "source": [
    "bigrams = nltk.bigrams(tokens)"
   ]
  },
  {
   "cell_type": "code",
   "execution_count": 26,
   "metadata": {},
   "outputs": [
    {
     "name": "stdout",
     "output_type": "stream",
     "text": [
      "('I', 'think')\n",
      "('think', 'it')\n",
      "('it', 'might')\n",
      "('might', 'rain')\n",
      "('rain', 'today')\n",
      "('today', '.')\n"
     ]
    }
   ],
   "source": [
    "for item in bigrams:\n",
    "    print(item)"
   ]
  },
  {
   "cell_type": "code",
   "execution_count": 27,
   "metadata": {},
   "outputs": [
    {
     "name": "stdout",
     "output_type": "stream",
     "text": [
      "('I', 'think', 'it')\n",
      "('think', 'it', 'might')\n",
      "('it', 'might', 'rain')\n",
      "('might', 'rain', 'today')\n",
      "('rain', 'today', '.')\n"
     ]
    }
   ],
   "source": [
    "trigrams = nltk.trigrams(tokens)\n",
    "for item in trigrams:\n",
    "    print(item)"
   ]
  },
  {
   "cell_type": "code",
   "execution_count": 28,
   "metadata": {},
   "outputs": [
    {
     "name": "stdout",
     "output_type": "stream",
     "text": [
      "('If', 'it')\n",
      "('it', 'is')\n",
      "('is', 'nice')\n",
      "('nice', 'out')\n",
      "('out', ',')\n",
      "(',', 'I')\n",
      "('I', 'will')\n",
      "('will', 'go')\n",
      "('go', 'to')\n",
      "('to', 'the')\n",
      "('the', 'beach')\n",
      "('beach', '.')\n"
     ]
    }
   ],
   "source": [
    "from nltk.util import ngrams\n",
    "ngram_phrase = \"If it is nice out, I will go to the beach.\"\n",
    "ngram_tokens = nltk.word_tokenize(ngram_phrase)\n",
    "\n",
    "bigrams_from_ngrams = ngrams(ngram_tokens, 2)\n",
    "for item in bigrams_from_ngrams:\n",
    "    print(item)"
   ]
  },
  {
   "cell_type": "code",
   "execution_count": 29,
   "metadata": {},
   "outputs": [
    {
     "name": "stdout",
     "output_type": "stream",
     "text": [
      "('If', 'it', 'is', 'nice')\n",
      "('it', 'is', 'nice', 'out')\n",
      "('is', 'nice', 'out', ',')\n",
      "('nice', 'out', ',', 'I')\n",
      "('out', ',', 'I', 'will')\n",
      "(',', 'I', 'will', 'go')\n",
      "('I', 'will', 'go', 'to')\n",
      "('will', 'go', 'to', 'the')\n",
      "('go', 'to', 'the', 'beach')\n",
      "('to', 'the', 'beach', '.')\n"
     ]
    }
   ],
   "source": [
    "fourgrams = ngrams(ngram_tokens, 4)\n",
    "for item in fourgrams:\n",
    "    print(item)"
   ]
  },
  {
   "cell_type": "code",
   "execution_count": 30,
   "metadata": {},
   "outputs": [],
   "source": [
    "def n_grams(text, n):\n",
    "    tokens = nltk.word_tokenize(text)\n",
    "    grams = ngrams(tokens, n)\n",
    "    return grams"
   ]
  },
  {
   "cell_type": "code",
   "execution_count": 31,
   "metadata": {},
   "outputs": [
    {
     "name": "stdout",
     "output_type": "stream",
     "text": [
      "('I', 'think', 'it', 'might', 'rain')\n",
      "('think', 'it', 'might', 'rain', 'today.If')\n",
      "('it', 'might', 'rain', 'today.If', 'it')\n",
      "('might', 'rain', 'today.If', 'it', 'is')\n",
      "('rain', 'today.If', 'it', 'is', 'nice')\n",
      "('today.If', 'it', 'is', 'nice', 'out')\n",
      "('it', 'is', 'nice', 'out', ',')\n",
      "('is', 'nice', 'out', ',', 'I')\n",
      "('nice', 'out', ',', 'I', 'will')\n",
      "('out', ',', 'I', 'will', 'go')\n",
      "(',', 'I', 'will', 'go', 'to')\n",
      "('I', 'will', 'go', 'to', 'the')\n",
      "('will', 'go', 'to', 'the', 'beach')\n",
      "('go', 'to', 'the', 'beach', '.')\n"
     ]
    }
   ],
   "source": [
    "phrase_3 = bigram_phrase + ngram_phrase\n",
    "\n",
    "grams = n_grams(phrase_3, 5)\n",
    "for item in grams:\n",
    "    print(item)"
   ]
  },
  {
   "cell_type": "markdown",
   "metadata": {},
   "source": [
    "### Regular Expressions (regex)\n",
    "\n",
    "- Useful for finding specific patterns in text.\n",
    "    - can find all words that start with `ch` or `ing`\n",
    "    - can find all words that are 5 letters long and contain an `n` in the middle\n",
    "\n",
    "Regular expressions use Metacharacters in order to match specific text cases.\n",
    "\n",
    "##### Basic Regex metacharacters:\n",
    "- `^`: Denotes the start of a string\n",
    "- `$`: Denotes the end of a string\n",
    "- `.`: Wild card character\n",
    "- `[chr]`: Matches one of the characters\n",
    "- `[a-m]`: Matches one character in the range\n",
    "\n",
    "To find all 3 letter words in a document, we would use the following:\n",
    "`^...$`\n",
    "Here, the 3 dots mean any 3 characters. The carrot and dollar sign indicate the beginning and end of our expression.\n",
    "\n",
    "To find all 3 letter words that start with the letter 'c':\n",
    "`^c..$`\n",
    "\n",
    "To find all words that start with c regardless of length: `^c`\n",
    "\n",
    "All words that end in 'ing': `ing$`\n",
    "\n",
    "How to find any of the words \"cat\", \"hat\", or \"rat\": `^[chr]at$`. Here the brackets mean that any of these letters could be used for the first character.\n",
    "\n",
    "All words that start with the letters A, B, C, D, E, or F: `^[a-f]`\n",
    "\n",
    "#### Advanced regex metacharacters:\n",
    "- `?`: The previous character occurs 0 or 1 times\n",
    "- `*`: The previous character occurs 0 or more times\n",
    "- `+`: The previous character occurs 1 or more times\n",
    "- `a|e`: Matches one or the other\n",
    "- `()`: Parenthesis for grouping expressions\n",
    "- `\\`: Escape character\n",
    "\n",
    "Expression to look for email addresses: `^.+@.+\\.com$`. Here, the first dot as a wild card followed by a plus indicates that any number of characters can come before the @ symbol. The second . followed by the plus indicates the same. The backslash before the . in .com indicates that the . is used in the text and is not acting as a meta character.\n",
    "\n"
   ]
  },
  {
   "cell_type": "code",
   "execution_count": 32,
   "metadata": {},
   "outputs": [
    {
     "name": "stdout",
     "output_type": "stream",
     "text": [
      "New words: {'newspapers', 'new'}\n"
     ]
    }
   ],
   "source": [
    "import re #Regular expressions\n",
    "alice = nltk.corpus.gutenberg.words(\"carroll-alice.txt\")\n",
    "\n",
    "#Looking for wards that start with new\n",
    "new_words = set([word for word in alice if re.search(\"^new\", word)])\n",
    "print(\"New words:\", new_words)"
   ]
  },
  {
   "cell_type": "code",
   "execution_count": 33,
   "metadata": {},
   "outputs": [
    {
     "name": "stdout",
     "output_type": "stream",
     "text": [
      "Ful words: {'doubtful', 'truthful', 'ootiful', 'wonderful', 'useful', 'mournful', 'Beautiful', 'barrowful', 'sorrowful', 'dreadful', 'hopeful', 'delightful', 'respectful', 'graceful', 'beautiful'}\n"
     ]
    }
   ],
   "source": [
    "#Find all words that end in 'ful'\n",
    "ful_words = set([word for word in alice if re.search(\"ful$\", word)])\n",
    "print(\"Ful words:\", ful_words)"
   ]
  },
  {
   "cell_type": "code",
   "execution_count": 34,
   "metadata": {},
   "outputs": [
    {
     "name": "stdout",
     "output_type": "stream",
     "text": [
      "Six character words: {'tunnel', 'fanned', 'manner', 'dinner', 'cannot'}\n"
     ]
    }
   ],
   "source": [
    "#Search for characters that are 6 characters long and have 2 'n's in the middle\n",
    "six_char_words = set([word for word in alice if re.search(\"^..nn..$\", word)])\n",
    "print(\"Six character words:\", six_char_words)"
   ]
  },
  {
   "cell_type": "code",
   "execution_count": 35,
   "metadata": {},
   "outputs": [
    {
     "name": "stdout",
     "output_type": "stream",
     "text": [
      "CHR words {'cat', 'hat', 'rat'}\n"
     ]
    }
   ],
   "source": [
    "#Search for cat hat or rat:\n",
    "cat_or_rat_words = set([word for word in alice if re.search(\"^[chr]at$\", word)])\n",
    "print(\"CHR words\", cat_or_rat_words)"
   ]
  },
  {
   "cell_type": "code",
   "execution_count": 36,
   "metadata": {},
   "outputs": [
    {
     "name": "stdout",
     "output_type": "stream",
     "text": [
      "Any length two n words: {'beginning', 'annoyed', 'planning', 'fanned', 'manners', 'cannot', 'tunnel', 'Pennyworth', 'cunning', 'fanning', 'running', 'grinning', 'funny', 'grinned', 'annoy', 'Dinn', 'dinner', 'Ann', 'dinn', 'manner'}\n"
     ]
    }
   ],
   "source": [
    "#All words regardless of length that have 2 'n's\n",
    "\n",
    "any_length_two_n_words = set([word for word in alice if re.search(\"^.*nn.*\", word)])\n",
    "print(\"Any length two n words:\", any_length_two_n_words)"
   ]
  },
  {
   "cell_type": "code",
   "execution_count": 37,
   "metadata": {},
   "outputs": [
    {
     "name": "stdout",
     "output_type": "stream",
     "text": [
      "Custom words: {'actually', 'occasionally', 'accidentally'}\n"
     ]
    }
   ],
   "source": [
    "#All words that start with a vowel with the second letter 'c' and the word ends in 'y'\n",
    "\n",
    "custom_words = set([word for word in alice if re.search(\"^[aeiou]c.*y$\", word)])\n",
    "print(\"Custom words:\", custom_words)"
   ]
  }
 ],
 "metadata": {
  "kernelspec": {
   "display_name": "Python 3.10.4 64-bit",
   "language": "python",
   "name": "python3"
  },
  "language_info": {
   "codemirror_mode": {
    "name": "ipython",
    "version": 3
   },
   "file_extension": ".py",
   "mimetype": "text/x-python",
   "name": "python",
   "nbconvert_exporter": "python",
   "pygments_lexer": "ipython3",
   "version": "3.10.4"
  },
  "orig_nbformat": 4,
  "vscode": {
   "interpreter": {
    "hash": "369f2c481f4da34e4445cda3fffd2e751bd1c4d706f27375911949ba6bb62e1c"
   }
  }
 },
 "nbformat": 4,
 "nbformat_minor": 2
}
